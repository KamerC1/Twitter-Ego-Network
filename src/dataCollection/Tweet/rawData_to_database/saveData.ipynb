{
 "cells": [
  {
   "cell_type": "markdown",
   "metadata": {
    "collapsed": true
   },
   "source": [
    "Crea il database per gli utenti e i tweet"
   ]
  },
  {
   "cell_type": "code",
   "execution_count": null,
   "metadata": {},
   "outputs": [],
   "source": [
    "import sys\n",
    "\n",
    "\n",
    "PATH = '../../../../'\n",
    "sys.path.append(f\"{PATH}/\")\n",
    "from src.utils.pyspark_init import set_pySpark\n",
    "from src.dataCollection.Tweet.rawData_to_database.UsersDB import UsersDB\n",
    "from src.dataCollection.Tweet.rawData_to_database.TweetDB import TweetDB\n",
    "set_pySpark()"
   ]
  },
  {
   "cell_type": "markdown",
   "metadata": {
    "collapsed": false
   },
   "source": [
    "Salvataggio DB utenti"
   ]
  },
  {
   "cell_type": "code",
   "execution_count": null,
   "metadata": {
    "collapsed": false
   },
   "outputs": [],
   "source": [
    "userDB = UsersDB(f\"{PATH}/data/raw_data\", year=\"2018-2022\")\n",
    "userDB.saveUserEntity(f\"{PATH}/data/database/userDB/user\")\n",
    "userDB.saveBotometerEntity(f\"{PATH}/data/database/userDB/botometer\")"
   ]
  },
  {
   "cell_type": "markdown",
   "metadata": {
    "collapsed": false
   },
   "source": [
    "Salvataggio DB tweet"
   ]
  },
  {
   "cell_type": "code",
   "execution_count": null,
   "metadata": {
    "collapsed": false
   },
   "outputs": [],
   "source": [
    "tweetDB = TweetDB(f\"{PATH}/data/raw_data/tweet/2015-2018\")\n",
    "tweetDB.saveTweetEntity(f\"{PATH}/data/database/tweet/2015-2018\", log_file=f\"{PATH}/data/log/TweetDB.txt\")"
   ]
  },
  {
   "cell_type": "code",
   "execution_count": null,
   "metadata": {
    "collapsed": false
   },
   "outputs": [],
   "source": [
    "tweetDB = TweetDB(f\"{PATH}/data/raw_data/tweet/2018-2022\")\n",
    "tweetDB.saveTweetEntity(f\"{PATH}/data/database/tweet/2018-2022\", log_file=f\"{PATH}/data/log/TweetDB.txt\")"
   ]
  }
 ],
 "metadata": {
  "kernelspec": {
   "display_name": "Python 3",
   "language": "python",
   "name": "python3"
  },
  "language_info": {
   "codemirror_mode": {
    "name": "ipython",
    "version": 2
   },
   "file_extension": ".py",
   "mimetype": "text/x-python",
   "name": "python",
   "nbconvert_exporter": "python",
   "pygments_lexer": "ipython2",
   "version": "2.7.6"
  }
 },
 "nbformat": 4,
 "nbformat_minor": 0
}
