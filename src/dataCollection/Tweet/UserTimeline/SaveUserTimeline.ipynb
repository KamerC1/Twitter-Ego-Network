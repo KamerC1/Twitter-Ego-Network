{
 "cells": [
  {
   "cell_type": "markdown",
   "metadata": {
    "ExecuteTime": {
     "end_time": "2023-05-02T20:31:47.026070200Z",
     "start_time": "2023-05-02T20:31:46.961083100Z"
    },
    "collapsed": true
   },
   "source": [
    "Scarica i tweet degli utenti selezionati dal 2015-03-01T00:00:00Z al \"2022-04-01T00:00:00Z\""
   ]
  },
  {
   "cell_type": "code",
   "execution_count": null,
   "metadata": {},
   "outputs": [],
   "source": [
    "import sys\n",
    "\n",
    "\n",
    "PATH = '../../../..'\n",
    "sys.path.append(f\"{PATH}/\")\n",
    "from src.dataCollection.Tweet.UserTimeline.SelectedUser import SelectedUser\n",
    "from src.dataCollection.Tweet.UserTimeline.UsersTimeline import UsersTimeline"
   ]
  },
  {
   "cell_type": "markdown",
   "metadata": {
    "collapsed": false
   },
   "source": [
    "Seleziona gli utenti di cui recuperare la timeline"
   ]
  },
  {
   "cell_type": "code",
   "execution_count": null,
   "metadata": {
    "ExecuteTime": {
     "end_time": "2023-05-02T20:33:08.409798400Z",
     "start_time": "2023-05-02T20:32:31.945651100Z"
    },
    "collapsed": false
   },
   "outputs": [],
   "source": [
    "userDB_dir = f\"{PATH}/data/database/userDB/user\"\n",
    "selectedUser_dir = f\"{PATH}/data/raw_data/user/selected_users\"\n",
    "\n",
    "selectedUser = SelectedUser(userDB_dir, selectedUser_dir)"
   ]
  },
  {
   "cell_type": "markdown",
   "metadata": {
    "collapsed": false
   },
   "source": [
    "Scarica la timeline di tutti gli utenti selezionati"
   ]
  },
  {
   "cell_type": "code",
   "execution_count": null,
   "metadata": {
    "collapsed": false,
    "pycharm": {
     "is_executing": true
    }
   },
   "outputs": [],
   "source": [
    "log_file_path= f\"{PATH}/data/log/A.txt\"\n",
    "save_dir = f\"{PATH}/data/raw_data\"\n",
    "\n",
    "users_id = selectedUser.getSelectedUser_for_academicAPI()\n",
    "userTimeline = UsersTimeline(users_id, \"A\", log_file_path, save_dir)\n",
    "userTimeline.saveUsersTimeline()"
   ]
  },
  {
   "cell_type": "code",
   "execution_count": null,
   "metadata": {
    "ExecuteTime": {
     "start_time": "2023-05-02T20:33:10.346313300Z"
    },
    "collapsed": false,
    "is_executing": true
   },
   "outputs": [],
   "source": [
    "log_file_path= f\"{PATH}/data/log/C.txt\"\n",
    "save_dir = f\"{PATH}/data/raw_data/tweet/2018-2022\"\n",
    "\n",
    "users_id = selectedUser.getSelectedUser_for_academicAPI()\n",
    "userTimeline = UsersTimeline(users_id, \"C\", log_file_path, save_dir)\n",
    "userTimeline.saveUsersTimeline()"
   ]
  },
  {
   "cell_type": "code",
   "execution_count": null,
   "metadata": {
    "collapsed": false
   },
   "outputs": [],
   "source": [
    "log_file_path= f\"{PATH}/data/log/K.txt\"\n",
    "save_dir = f\"{PATH}/data/raw_data\"\n",
    "\n",
    "users_id = selectedUser.getSelectedUser_for_userTimeline()\n",
    "userTimeline = UsersTimeline(users_id, \"K\", log_file_path, save_dir)\n",
    "userTimeline.saveUsersRecentTimeline()"
   ]
  }
 ],
 "metadata": {
  "kernelspec": {
   "display_name": "Python 3",
   "language": "python",
   "name": "python3"
  },
  "language_info": {
   "codemirror_mode": {
    "name": "ipython",
    "version": 2
   },
   "file_extension": ".py",
   "mimetype": "text/x-python",
   "name": "python",
   "nbconvert_exporter": "python",
   "pygments_lexer": "ipython2",
   "version": "2.7.6"
  }
 },
 "nbformat": 4,
 "nbformat_minor": 0
}
