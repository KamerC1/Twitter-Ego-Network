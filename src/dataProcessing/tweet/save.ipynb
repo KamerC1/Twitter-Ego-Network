{
 "cells": [
  {
   "cell_type": "code",
   "execution_count": null,
   "metadata": {},
   "outputs": [],
   "source": [
    "import sys\n",
    "\n",
    "PATH = \"../../..\"\n",
    "sys.path.append(f'{PATH}/')\n",
    "from src.utils.pyspark_init import set_pySpark\n",
    "import pyspark.pandas as ps\n",
    "from src.dataProcessing.tweet.Tweet import Tweet\n",
    "from src.utils.globalVariable import REGULAR_ACTIVE_USER_DIR, TWEET_DATABASE_DIR\n",
    "from src.utils.slidingWindow import get_period_list, utc_to_string\n",
    "\n",
    "set_pySpark(memory='30g')"
   ]
  },
  {
   "cell_type": "code",
   "execution_count": null,
   "metadata": {},
   "outputs": [],
   "source": [
    "def save_Tweet(PERIOD_DIR, startPeriod_utc, endPeriod_utc):\n",
    "    user_id = ps.read_parquet(f\"{PATH}/{REGULAR_ACTIVE_USER_DIR}/user\")[\"id\"]\n",
    "    tweet = Tweet(f\"{PATH}/{TWEET_DATABASE_DIR}\")\n",
    "    \n",
    "    socialTweet = tweet.get_socialTweet_period(startPeriod_utc, endPeriod_utc)\n",
    "    socialTweet = socialTweet[socialTweet[\"user_id\"].isin(user_id.values)]\n",
    "    socialTweet.to_parquet(f\"{PERIOD_DIR}/tweet/socialTweet\")\n",
    "    \n",
    "    allTweet = tweet.get_tweet_in_period(startPeriod_utc, endPeriod_utc)\n",
    "    allTweet = allTweet[allTweet[\"user_id\"].isin(user_id.values)]\n",
    "    allTweet.to_parquet(f\"{PERIOD_DIR}/tweet/allTweet\")"
   ]
  },
  {
   "cell_type": "code",
   "execution_count": 3,
   "metadata": {},
   "outputs": [
    {
     "name": "stderr",
     "output_type": "stream",
     "text": [
      "                                                                                \r"
     ]
    }
   ],
   "source": [
    "period_list = get_period_list()\n",
    "for first_period, second_period in period_list:\n",
    "    first_period_str = utc_to_string(first_period)\n",
    "    second_period_str = utc_to_string(second_period)\n",
    "\n",
    "    PERIOD_DIR = f\"{PATH}/{REGULAR_ACTIVE_USER_DIR}/{first_period_str}-{second_period_str}\"\n",
    "    save_Tweet(PERIOD_DIR, first_period, second_period)"
   ]
  }
 ],
 "metadata": {
  "kernelspec": {
   "display_name": "Python 3",
   "language": "python",
   "name": "python3"
  },
  "language_info": {
   "codemirror_mode": {
    "name": "ipython",
    "version": 3
   },
   "file_extension": ".py",
   "mimetype": "text/x-python",
   "name": "python",
   "nbconvert_exporter": "python",
   "pygments_lexer": "ipython3",
   "version": "3.9.16"
  }
 },
 "nbformat": 4,
 "nbformat_minor": 0
}
