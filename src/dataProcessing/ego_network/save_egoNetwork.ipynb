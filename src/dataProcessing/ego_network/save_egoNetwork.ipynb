{
 "cells": [
  {
   "cell_type": "markdown",
   "metadata": {
    "collapsed": false
   },
   "source": [
    "Salva ego network e active ego network degli utenti regolari e attivi.\n",
    "\n",
    "La ego network e active ego network viene suddivisa in pre lockdown e post lockdown"
   ]
  },
  {
   "cell_type": "code",
   "execution_count": null,
   "metadata": {
    "ExecuteTime": {
     "end_time": "2023-05-14T17:25:15.705352400Z",
     "start_time": "2023-05-14T17:25:10.372950700Z"
    },
    "collapsed": false
   },
   "outputs": [],
   "source": [
    "import sys\n",
    "\n",
    "\n",
    "PATH = \"../../..\"\n",
    "sys.path.append(f'{PATH}/')\n",
    "\n",
    "from src.utils.pyspark_init import set_pySpark\n",
    "import pyspark.pandas as ps\n",
    "from src.dataProcessing.ego_network.ActiveEgoNetwork import ActiveEgoNetwork\n",
    "from src.dataProcessing.ego_network.BasicEgoNetwork import BasicEgoNetwork\n",
    "from src.utils.globalVariable import REGULAR_ACTIVE_USER_DIR, TWEET_DATABASE_DIR\n",
    "from src.utils.slidingWindow import get_period_list, utc_to_string\n",
    "\n",
    "\n",
    "\n",
    "set_pySpark(memory=\"30g\")"
   ]
  },
  {
   "cell_type": "code",
   "execution_count": null,
   "metadata": {
    "ExecuteTime": {
     "end_time": "2023-05-14T17:25:15.752714100Z",
     "start_time": "2023-05-14T17:25:15.752714100Z"
    },
    "collapsed": false
   },
   "outputs": [],
   "source": [
    "def save_egoNetwork(PERIOD_DIR, startPeriod_utc, endPeriod_utc):\n",
    "    user_id = ps.read_parquet(f\"{PATH}/{REGULAR_ACTIVE_USER_DIR}/user\")[\"id\"]\n",
    "    egoNetwork = BasicEgoNetwork(f\"{PATH}/{TWEET_DATABASE_DIR}\", user_id.to_list())\n",
    "\n",
    "    egoNetwork = egoNetwork.get_observedEgoNetwork(startPeriod_utc, endPeriod_utc, min_relationship_duration=0.5)\n",
    "    egoNetwork.to_parquet(f\"{PERIOD_DIR}/egoNetwork\")\n",
    "\n",
    "\n",
    "def save_activeEgoNetwork(REGULAR_ACTIVE_USER_DIR):\n",
    "    activeEgoNetwork = ActiveEgoNetwork(f\"{REGULAR_ACTIVE_USER_DIR}/egoNetwork\")\n",
    "    activeEgoNetwork.get_ActiveEgoNetwork().to_parquet(f\"{REGULAR_ACTIVE_USER_DIR}/activeEgoNetwork\")"
   ]
  },
  {
   "cell_type": "markdown",
   "metadata": {
    "collapsed": false
   },
   "source": [
    "Ego netowrk e Active ego network con sliding window + utenti regolari e attivi nel nel periodo post lockdown"
   ]
  },
  {
   "cell_type": "code",
   "execution_count": null,
   "metadata": {
    "ExecuteTime": {
     "start_time": "2023-05-14T17:25:15.752714100Z"
    },
    "collapsed": false
   },
   "outputs": [],
   "source": [
    "period_list = get_period_list()\n",
    "for first_period, second_period in period_list:\n",
    "    first_period_str = utc_to_string(first_period)\n",
    "    second_period_str = utc_to_string(second_period)\n",
    "\n",
    "    PERIOD_DIR = f\"{PATH}/{REGULAR_ACTIVE_USER_DIR}/{first_period_str}-{second_period_str}\"\n",
    "\n",
    "    save_egoNetwork(PERIOD_DIR, first_period, second_period)\n",
    "    save_activeEgoNetwork(PERIOD_DIR)"
   ]
  }
 ],
 "metadata": {
  "kernelspec": {
   "display_name": "Python 3",
   "language": "python",
   "name": "python3"
  },
  "language_info": {
   "codemirror_mode": {
    "name": "ipython",
    "version": 3
   },
   "file_extension": ".py",
   "mimetype": "text/x-python",
   "name": "python",
   "nbconvert_exporter": "python",
   "pygments_lexer": "ipython3",
   "version": "3.9.16"
  }
 },
 "nbformat": 4,
 "nbformat_minor": 0
}
