{
 "cells": [
  {
   "cell_type": "markdown",
   "metadata": {
    "collapsed": false
   },
   "source": [
    "Dati i tweet in database, salva gli utenti:\n",
    "- Regolari\n",
    "- Attivi\n",
    "- Regolari e Attivi\n",
    "\n",
    "Inoltre, salva texted_tweet e retweet di utenti Regolari e Attivi"
   ]
  },
  {
   "cell_type": "code",
   "execution_count": 4,
   "metadata": {
    "collapsed": false
   },
   "outputs": [],
   "source": [
    "import sys\n",
    "\n",
    "\n",
    "\n",
    "PATH = \"../../..\"\n",
    "sys.path.append(f'{PATH}/')\n",
    "\n",
    "from src.utils.pyspark_init import set_pySpark\n",
    "from src.utils.globalVariable import *\n",
    "from src.dataProcessing.tweet.Tweet import Tweet\n",
    "from src.dataProcessing.active_and_regular_user.RegularAndActiveUsers import RegularAndActiveUser\n",
    "from src.utils.slidingWindow import get_period_list, utc_to_string\n",
    "from src.utils.globalVariable import REGULAR_ACTIVE_USER_DIR, TWEET_DATABASE_DIR\n",
    "import pyspark.pandas as ps\n",
    "from src.utils.globalVariable import USER_DATABASE_DIR\n",
    "\n",
    "set_pySpark()"
   ]
  },
  {
   "cell_type": "markdown",
   "metadata": {},
   "source": [
    "Rec"
   ]
  },
  {
   "cell_type": "markdown",
   "metadata": {},
   "source": [
    "Recupera gli utenti regolari e attivi periodo per periodo"
   ]
  },
  {
   "cell_type": "code",
   "execution_count": null,
   "metadata": {
    "collapsed": false
   },
   "outputs": [],
   "source": [
    "period_list = get_period_list()\n",
    "for first_period, second_period in period_list:\n",
    "    first_period_string = utc_to_string(first_period)\n",
    "    second_period_string = utc_to_string(second_period)\n",
    "\n",
    "    regularActiveUsers = RegularAndActiveUser(f\"{PATH}/{TWEET_DATABASE_DIR}\", first_period, second_period)\n",
    "    regularActiveUsers = regularActiveUsers.get_regularAndActiveUser()\n",
    "    regularActiveUsers.to_parquet(f\"{PATH}/{REGULAR_ACTIVE_USER_DIR}/temp/{first_period_string}-{second_period_string}/user_id\")"
   ]
  },
  {
   "cell_type": "code",
   "execution_count": 5,
   "metadata": {
    "collapsed": false
   },
   "outputs": [
    {
     "name": "stderr",
     "output_type": "stream",
     "text": [
      "/home/kcekini/progetti/Twitter/.venv/lib/python3.9/site-packages/pyspark/pandas/utils.py:975: PandasAPIOnSparkAdviceWarning: If `index_col` is not specified for `read_parquet`, the default index is attached which can cause additional overhead.\n",
      "  warnings.warn(message, PandasAPIOnSparkAdviceWarning)\n",
      "                                                                                \r"
     ]
    }
   ],
   "source": [
    "period_list = get_period_list()\n",
    "regularActiveUsers = ps.read_parquet(f\"{PATH}/{REGULAR_ACTIVE_USER_DIR}temp/*/user_id\")\n",
    "numPeriod = len(period_list)\n",
    "#Selezione l'intersezione degli utenti in tutti i periodi\n",
    "regularActiveUsers = ps.sql(\"SELECT user_id, COUNT(*) AS count \"\n",
    "                            \"FROM {regularActiveUsers} \"\n",
    "                            \"GROUP BY user_id \"\n",
    "                            \"HAVING COUNT(*) = {numPeriod}\",\n",
    "                            regularActiveUsers=regularActiveUsers, numPeriod=numPeriod)\n",
    "\n",
    "user = ps.read_parquet(f\"{PATH}/{USER_DATABASE_DIR}\")\n",
    "user = ps.sql(\"SELECT * \"\n",
    "              \"FROM {user} \"\n",
    "              \"WHERE id IN (SELECT user_id FROM {regularActiveUsers})\",\n",
    "              user=user, regularActiveUsers=regularActiveUsers)\n",
    "\n",
    "#Seleziona gli utenti che hanno creato il profilo almeno 6 mesi prima dell'inizio dell'analisi\n",
    "second_6month = 15778800\n",
    "start_analysis = period_list[0][0]\n",
    "user = ps.sql(\"SELECT * \"\n",
    "              \"FROM {user} \"\n",
    "              \"WHERE created_at_utc <= {start_analysis}-{second_6month} \"\n",
    "              \"ORDER BY created_at_utc DESC \",\n",
    "              user=user, start_analysis=start_analysis, second_6month=second_6month)\n",
    "\n",
    "user.to_parquet(f\"{PATH}/{REGULAR_ACTIVE_USER_DIR}/intersection/user\")"
   ]
  }
 ],
 "metadata": {
  "kernelspec": {
   "display_name": "Python 3",
   "language": "python",
   "name": "python3"
  },
  "language_info": {
   "codemirror_mode": {
    "name": "ipython",
    "version": 3
   },
   "file_extension": ".py",
   "mimetype": "text/x-python",
   "name": "python",
   "nbconvert_exporter": "python",
   "pygments_lexer": "ipython3",
   "version": "3.9.16"
  }
 },
 "nbformat": 4,
 "nbformat_minor": 0
}
